{
 "cells": [
  {
   "cell_type": "markdown",
   "id": "5fe0b60b-0fdc-4f15-a8f6-689fc5c608e2",
   "metadata": {},
   "source": [
    "## Project 1 - Mercedes-Benz Greener Manufacturing\n",
    "\n",
    "DESCRIPTION\n",
    "\n",
    "Reduce the time a Mercedes-Benz spends on the test bench.\n",
    "\n",
    "# Problem Statement Scenario:\n",
    "Since the first automobile, the Benz Patent Motor Car in 1886, Mercedes-Benz has stood for important automotive innovations. These include the passenger safety cell with the crumple zone, the airbag, and intelligent assistance systems. Mercedes-Benz applies for nearly 2000 patents per year, making the brand the European leader among premium carmakers. Mercedes-Benz cars are leaders in the premium car industry. With a huge selection of features and options, customers can choose the customized Mercedes-Benz of their dreams.\n",
    "\n",
    "To ensure the safety and reliability of every unique car configuration before they hit the road, Daimler’s engineers have developed a robust testing system. As one of the world’s biggest manufacturers of premium cars, safety and efficiency are paramount on Daimler’s production lines. However, optimizing the speed of their testing system for many possible feature combinations is complex and time-consuming without a powerful algorithmic approach.\n",
    "\n",
    "You are required to reduce the time that cars spend on the test bench. Others will work with a dataset representing different permutations of features in a Mercedes-Benz car to predict the time it takes to pass testing. Optimal algorithms will contribute to faster testing, resulting in lower carbon dioxide emissions without reducing Daimler’s standards.\n",
    "\n",
    "# Following actions should be performed:\n",
    "* If for any column(s), the variance is equal to zero, then you need to remove those variable(s).\n",
    "* Check for null and unique values for test and train sets\n",
    "* Apply label encoder.\n",
    "* Perform dimensionality reduction.\n",
    "* Predict your test_df values using xgboost"
   ]
  },
  {
   "cell_type": "code",
   "execution_count": 1,
   "id": "63678e29-d67c-4622-b94f-3c161afbd308",
   "metadata": {},
   "outputs": [],
   "source": [
    "import pandas as pd \n",
    "import numpy as np \n",
    "import matplotlib.pyplot as plt \n",
    "import seaborn as sns "
   ]
  },
  {
   "cell_type": "markdown",
   "id": "9eb91d9c-f9b2-4b8c-89d0-e6197171e97f",
   "metadata": {},
   "source": [
    "### Read train data and test data "
   ]
  },
  {
   "cell_type": "code",
   "execution_count": 2,
   "id": "82c8940c-9d79-4148-a932-a260d38f9d6e",
   "metadata": {},
   "outputs": [],
   "source": [
    "df_train =pd.read_csv('Dataset for the project/train.csv')"
   ]
  },
  {
   "cell_type": "code",
   "execution_count": 3,
   "id": "1ac45795-5798-4d7a-8c0d-3fd3ca980005",
   "metadata": {},
   "outputs": [],
   "source": [
    "df_test =pd.read_csv('Dataset for the project/test.csv')"
   ]
  },
  {
   "cell_type": "code",
   "execution_count": 4,
   "id": "bc16b553-471a-41e1-ba28-693de2167a4b",
   "metadata": {},
   "outputs": [
    {
     "data": {
      "text/html": [
       "<div>\n",
       "<style scoped>\n",
       "    .dataframe tbody tr th:only-of-type {\n",
       "        vertical-align: middle;\n",
       "    }\n",
       "\n",
       "    .dataframe tbody tr th {\n",
       "        vertical-align: top;\n",
       "    }\n",
       "\n",
       "    .dataframe thead th {\n",
       "        text-align: right;\n",
       "    }\n",
       "</style>\n",
       "<table border=\"1\" class=\"dataframe\">\n",
       "  <thead>\n",
       "    <tr style=\"text-align: right;\">\n",
       "      <th></th>\n",
       "      <th>ID</th>\n",
       "      <th>y</th>\n",
       "      <th>X0</th>\n",
       "      <th>X1</th>\n",
       "      <th>X2</th>\n",
       "      <th>X3</th>\n",
       "      <th>X4</th>\n",
       "      <th>X5</th>\n",
       "      <th>X6</th>\n",
       "      <th>X8</th>\n",
       "      <th>...</th>\n",
       "      <th>X375</th>\n",
       "      <th>X376</th>\n",
       "      <th>X377</th>\n",
       "      <th>X378</th>\n",
       "      <th>X379</th>\n",
       "      <th>X380</th>\n",
       "      <th>X382</th>\n",
       "      <th>X383</th>\n",
       "      <th>X384</th>\n",
       "      <th>X385</th>\n",
       "    </tr>\n",
       "  </thead>\n",
       "  <tbody>\n",
       "    <tr>\n",
       "      <th>0</th>\n",
       "      <td>0</td>\n",
       "      <td>130.81</td>\n",
       "      <td>k</td>\n",
       "      <td>v</td>\n",
       "      <td>at</td>\n",
       "      <td>a</td>\n",
       "      <td>d</td>\n",
       "      <td>u</td>\n",
       "      <td>j</td>\n",
       "      <td>o</td>\n",
       "      <td>...</td>\n",
       "      <td>0</td>\n",
       "      <td>0</td>\n",
       "      <td>1</td>\n",
       "      <td>0</td>\n",
       "      <td>0</td>\n",
       "      <td>0</td>\n",
       "      <td>0</td>\n",
       "      <td>0</td>\n",
       "      <td>0</td>\n",
       "      <td>0</td>\n",
       "    </tr>\n",
       "    <tr>\n",
       "      <th>1</th>\n",
       "      <td>6</td>\n",
       "      <td>88.53</td>\n",
       "      <td>k</td>\n",
       "      <td>t</td>\n",
       "      <td>av</td>\n",
       "      <td>e</td>\n",
       "      <td>d</td>\n",
       "      <td>y</td>\n",
       "      <td>l</td>\n",
       "      <td>o</td>\n",
       "      <td>...</td>\n",
       "      <td>1</td>\n",
       "      <td>0</td>\n",
       "      <td>0</td>\n",
       "      <td>0</td>\n",
       "      <td>0</td>\n",
       "      <td>0</td>\n",
       "      <td>0</td>\n",
       "      <td>0</td>\n",
       "      <td>0</td>\n",
       "      <td>0</td>\n",
       "    </tr>\n",
       "    <tr>\n",
       "      <th>2</th>\n",
       "      <td>7</td>\n",
       "      <td>76.26</td>\n",
       "      <td>az</td>\n",
       "      <td>w</td>\n",
       "      <td>n</td>\n",
       "      <td>c</td>\n",
       "      <td>d</td>\n",
       "      <td>x</td>\n",
       "      <td>j</td>\n",
       "      <td>x</td>\n",
       "      <td>...</td>\n",
       "      <td>0</td>\n",
       "      <td>0</td>\n",
       "      <td>0</td>\n",
       "      <td>0</td>\n",
       "      <td>0</td>\n",
       "      <td>0</td>\n",
       "      <td>1</td>\n",
       "      <td>0</td>\n",
       "      <td>0</td>\n",
       "      <td>0</td>\n",
       "    </tr>\n",
       "    <tr>\n",
       "      <th>3</th>\n",
       "      <td>9</td>\n",
       "      <td>80.62</td>\n",
       "      <td>az</td>\n",
       "      <td>t</td>\n",
       "      <td>n</td>\n",
       "      <td>f</td>\n",
       "      <td>d</td>\n",
       "      <td>x</td>\n",
       "      <td>l</td>\n",
       "      <td>e</td>\n",
       "      <td>...</td>\n",
       "      <td>0</td>\n",
       "      <td>0</td>\n",
       "      <td>0</td>\n",
       "      <td>0</td>\n",
       "      <td>0</td>\n",
       "      <td>0</td>\n",
       "      <td>0</td>\n",
       "      <td>0</td>\n",
       "      <td>0</td>\n",
       "      <td>0</td>\n",
       "    </tr>\n",
       "    <tr>\n",
       "      <th>4</th>\n",
       "      <td>13</td>\n",
       "      <td>78.02</td>\n",
       "      <td>az</td>\n",
       "      <td>v</td>\n",
       "      <td>n</td>\n",
       "      <td>f</td>\n",
       "      <td>d</td>\n",
       "      <td>h</td>\n",
       "      <td>d</td>\n",
       "      <td>n</td>\n",
       "      <td>...</td>\n",
       "      <td>0</td>\n",
       "      <td>0</td>\n",
       "      <td>0</td>\n",
       "      <td>0</td>\n",
       "      <td>0</td>\n",
       "      <td>0</td>\n",
       "      <td>0</td>\n",
       "      <td>0</td>\n",
       "      <td>0</td>\n",
       "      <td>0</td>\n",
       "    </tr>\n",
       "  </tbody>\n",
       "</table>\n",
       "<p>5 rows × 378 columns</p>\n",
       "</div>"
      ],
      "text/plain": [
       "   ID       y  X0 X1  X2 X3 X4 X5 X6 X8  ...  X375  X376  X377  X378  X379  \\\n",
       "0   0  130.81   k  v  at  a  d  u  j  o  ...     0     0     1     0     0   \n",
       "1   6   88.53   k  t  av  e  d  y  l  o  ...     1     0     0     0     0   \n",
       "2   7   76.26  az  w   n  c  d  x  j  x  ...     0     0     0     0     0   \n",
       "3   9   80.62  az  t   n  f  d  x  l  e  ...     0     0     0     0     0   \n",
       "4  13   78.02  az  v   n  f  d  h  d  n  ...     0     0     0     0     0   \n",
       "\n",
       "   X380  X382  X383  X384  X385  \n",
       "0     0     0     0     0     0  \n",
       "1     0     0     0     0     0  \n",
       "2     0     1     0     0     0  \n",
       "3     0     0     0     0     0  \n",
       "4     0     0     0     0     0  \n",
       "\n",
       "[5 rows x 378 columns]"
      ]
     },
     "execution_count": 4,
     "metadata": {},
     "output_type": "execute_result"
    }
   ],
   "source": [
    "df_train.head()"
   ]
  },
  {
   "cell_type": "code",
   "execution_count": 5,
   "id": "00b53e2f-0513-401b-8f1b-ea72b2d7abcc",
   "metadata": {},
   "outputs": [
    {
     "data": {
      "text/html": [
       "<div>\n",
       "<style scoped>\n",
       "    .dataframe tbody tr th:only-of-type {\n",
       "        vertical-align: middle;\n",
       "    }\n",
       "\n",
       "    .dataframe tbody tr th {\n",
       "        vertical-align: top;\n",
       "    }\n",
       "\n",
       "    .dataframe thead th {\n",
       "        text-align: right;\n",
       "    }\n",
       "</style>\n",
       "<table border=\"1\" class=\"dataframe\">\n",
       "  <thead>\n",
       "    <tr style=\"text-align: right;\">\n",
       "      <th></th>\n",
       "      <th>ID</th>\n",
       "      <th>X0</th>\n",
       "      <th>X1</th>\n",
       "      <th>X2</th>\n",
       "      <th>X3</th>\n",
       "      <th>X4</th>\n",
       "      <th>X5</th>\n",
       "      <th>X6</th>\n",
       "      <th>X8</th>\n",
       "      <th>X10</th>\n",
       "      <th>...</th>\n",
       "      <th>X375</th>\n",
       "      <th>X376</th>\n",
       "      <th>X377</th>\n",
       "      <th>X378</th>\n",
       "      <th>X379</th>\n",
       "      <th>X380</th>\n",
       "      <th>X382</th>\n",
       "      <th>X383</th>\n",
       "      <th>X384</th>\n",
       "      <th>X385</th>\n",
       "    </tr>\n",
       "  </thead>\n",
       "  <tbody>\n",
       "    <tr>\n",
       "      <th>0</th>\n",
       "      <td>1</td>\n",
       "      <td>az</td>\n",
       "      <td>v</td>\n",
       "      <td>n</td>\n",
       "      <td>f</td>\n",
       "      <td>d</td>\n",
       "      <td>t</td>\n",
       "      <td>a</td>\n",
       "      <td>w</td>\n",
       "      <td>0</td>\n",
       "      <td>...</td>\n",
       "      <td>0</td>\n",
       "      <td>0</td>\n",
       "      <td>0</td>\n",
       "      <td>1</td>\n",
       "      <td>0</td>\n",
       "      <td>0</td>\n",
       "      <td>0</td>\n",
       "      <td>0</td>\n",
       "      <td>0</td>\n",
       "      <td>0</td>\n",
       "    </tr>\n",
       "    <tr>\n",
       "      <th>1</th>\n",
       "      <td>2</td>\n",
       "      <td>t</td>\n",
       "      <td>b</td>\n",
       "      <td>ai</td>\n",
       "      <td>a</td>\n",
       "      <td>d</td>\n",
       "      <td>b</td>\n",
       "      <td>g</td>\n",
       "      <td>y</td>\n",
       "      <td>0</td>\n",
       "      <td>...</td>\n",
       "      <td>0</td>\n",
       "      <td>0</td>\n",
       "      <td>1</td>\n",
       "      <td>0</td>\n",
       "      <td>0</td>\n",
       "      <td>0</td>\n",
       "      <td>0</td>\n",
       "      <td>0</td>\n",
       "      <td>0</td>\n",
       "      <td>0</td>\n",
       "    </tr>\n",
       "    <tr>\n",
       "      <th>2</th>\n",
       "      <td>3</td>\n",
       "      <td>az</td>\n",
       "      <td>v</td>\n",
       "      <td>as</td>\n",
       "      <td>f</td>\n",
       "      <td>d</td>\n",
       "      <td>a</td>\n",
       "      <td>j</td>\n",
       "      <td>j</td>\n",
       "      <td>0</td>\n",
       "      <td>...</td>\n",
       "      <td>0</td>\n",
       "      <td>0</td>\n",
       "      <td>0</td>\n",
       "      <td>1</td>\n",
       "      <td>0</td>\n",
       "      <td>0</td>\n",
       "      <td>0</td>\n",
       "      <td>0</td>\n",
       "      <td>0</td>\n",
       "      <td>0</td>\n",
       "    </tr>\n",
       "    <tr>\n",
       "      <th>3</th>\n",
       "      <td>4</td>\n",
       "      <td>az</td>\n",
       "      <td>l</td>\n",
       "      <td>n</td>\n",
       "      <td>f</td>\n",
       "      <td>d</td>\n",
       "      <td>z</td>\n",
       "      <td>l</td>\n",
       "      <td>n</td>\n",
       "      <td>0</td>\n",
       "      <td>...</td>\n",
       "      <td>0</td>\n",
       "      <td>0</td>\n",
       "      <td>0</td>\n",
       "      <td>1</td>\n",
       "      <td>0</td>\n",
       "      <td>0</td>\n",
       "      <td>0</td>\n",
       "      <td>0</td>\n",
       "      <td>0</td>\n",
       "      <td>0</td>\n",
       "    </tr>\n",
       "    <tr>\n",
       "      <th>4</th>\n",
       "      <td>5</td>\n",
       "      <td>w</td>\n",
       "      <td>s</td>\n",
       "      <td>as</td>\n",
       "      <td>c</td>\n",
       "      <td>d</td>\n",
       "      <td>y</td>\n",
       "      <td>i</td>\n",
       "      <td>m</td>\n",
       "      <td>0</td>\n",
       "      <td>...</td>\n",
       "      <td>1</td>\n",
       "      <td>0</td>\n",
       "      <td>0</td>\n",
       "      <td>0</td>\n",
       "      <td>0</td>\n",
       "      <td>0</td>\n",
       "      <td>0</td>\n",
       "      <td>0</td>\n",
       "      <td>0</td>\n",
       "      <td>0</td>\n",
       "    </tr>\n",
       "  </tbody>\n",
       "</table>\n",
       "<p>5 rows × 377 columns</p>\n",
       "</div>"
      ],
      "text/plain": [
       "   ID  X0 X1  X2 X3 X4 X5 X6 X8  X10  ...  X375  X376  X377  X378  X379  X380  \\\n",
       "0   1  az  v   n  f  d  t  a  w    0  ...     0     0     0     1     0     0   \n",
       "1   2   t  b  ai  a  d  b  g  y    0  ...     0     0     1     0     0     0   \n",
       "2   3  az  v  as  f  d  a  j  j    0  ...     0     0     0     1     0     0   \n",
       "3   4  az  l   n  f  d  z  l  n    0  ...     0     0     0     1     0     0   \n",
       "4   5   w  s  as  c  d  y  i  m    0  ...     1     0     0     0     0     0   \n",
       "\n",
       "   X382  X383  X384  X385  \n",
       "0     0     0     0     0  \n",
       "1     0     0     0     0  \n",
       "2     0     0     0     0  \n",
       "3     0     0     0     0  \n",
       "4     0     0     0     0  \n",
       "\n",
       "[5 rows x 377 columns]"
      ]
     },
     "execution_count": 5,
     "metadata": {},
     "output_type": "execute_result"
    }
   ],
   "source": [
    "df_test.head()"
   ]
  },
  {
   "cell_type": "markdown",
   "id": "86e0d2dd-326f-45db-b799-8d4d64d77f97",
   "metadata": {},
   "source": [
    "### Variance Check for each columns "
   ]
  },
  {
   "cell_type": "code",
   "execution_count": 10,
   "id": "553d05ee-2be9-4797-9258-35a9d542216d",
   "metadata": {},
   "outputs": [
    {
     "data": {
      "text/plain": [
       "X289    0.000000e+00\n",
       "X330    0.000000e+00\n",
       "X268    0.000000e+00\n",
       "X347    0.000000e+00\n",
       "X107    0.000000e+00\n",
       "            ...     \n",
       "X362    2.496467e-01\n",
       "X337    2.497867e-01\n",
       "X127    2.500357e-01\n",
       "y       1.607667e+02\n",
       "ID      5.941936e+06\n",
       "Length: 370, dtype: float64"
      ]
     },
     "execution_count": 10,
     "metadata": {},
     "output_type": "execute_result"
    }
   ],
   "source": [
    "variance_train =df_train.select_dtypes(['int','float']).var()\n",
    "variance_test  =df_test.select_dtypes(['int','float']).var()\n",
    "variance_train.sort_values(ascending =True)"
   ]
  },
  {
   "cell_type": "markdown",
   "id": "8b376c15-8f16-45a8-9166-156f5bd110b6",
   "metadata": {},
   "source": [
    "####     Columns having zero Variance , this indicate that it is actiually a same number and didnt contribute to our analysis"
   ]
  },
  {
   "cell_type": "code",
   "execution_count": 9,
   "id": "48a3bc52-f65c-4213-9251-70d98838c1f1",
   "metadata": {},
   "outputs": [
    {
     "data": {
      "text/plain": [
       "12"
      ]
     },
     "execution_count": 9,
     "metadata": {},
     "output_type": "execute_result"
    }
   ],
   "source": [
    "variance_train[variance_train==0].count()"
   ]
  },
  {
   "cell_type": "code",
   "execution_count": 11,
   "id": "2cbecda8-626f-4440-937e-91f3f87f9fed",
   "metadata": {},
   "outputs": [
    {
     "data": {
      "text/plain": [
       "5"
      ]
     },
     "execution_count": 11,
     "metadata": {},
     "output_type": "execute_result"
    }
   ],
   "source": [
    "variance_test[variance_test==0].count()"
   ]
  },
  {
   "cell_type": "code",
   "execution_count": 15,
   "id": "9f12f4f8-9976-4192-9969-1c115ad45f00",
   "metadata": {},
   "outputs": [],
   "source": [
    "zero_variance_cols_train = variance_train[variance_train==0].index.to_list()\n"
   ]
  },
  {
   "cell_type": "code",
   "execution_count": 13,
   "id": "010ddefd-98f5-4f7c-9281-b8acd1998b75",
   "metadata": {},
   "outputs": [
    {
     "data": {
      "text/plain": [
       "['X11',\n",
       " 'X93',\n",
       " 'X107',\n",
       " 'X233',\n",
       " 'X235',\n",
       " 'X268',\n",
       " 'X289',\n",
       " 'X290',\n",
       " 'X293',\n",
       " 'X297',\n",
       " 'X330',\n",
       " 'X347']"
      ]
     },
     "execution_count": 13,
     "metadata": {},
     "output_type": "execute_result"
    }
   ],
   "source": [
    "zero_variance_cols"
   ]
  },
  {
   "cell_type": "markdown",
   "id": "fd8c2881-f85a-4c63-897b-0621dd0f62e1",
   "metadata": {},
   "source": [
    "Drop cloumns having zero variance "
   ]
  },
  {
   "cell_type": "code",
   "execution_count": 23,
   "id": "6d9d0ffe-3078-4ec3-8637-1a8e45c02d09",
   "metadata": {},
   "outputs": [],
   "source": [
    "df_train.drop(columns=zero_variance_cols,inplace=True)"
   ]
  },
  {
   "cell_type": "code",
   "execution_count": 24,
   "id": "b3964548-637a-4350-9aa0-6ccceddf7d43",
   "metadata": {},
   "outputs": [
    {
     "data": {
      "text/plain": [
       "(4209, 366)"
      ]
     },
     "execution_count": 24,
     "metadata": {},
     "output_type": "execute_result"
    }
   ],
   "source": [
    "df_train.shape"
   ]
  },
  {
   "cell_type": "code",
   "execution_count": 17,
   "id": "4d9b9023-bb08-4bef-b90f-c41f4be9bf1e",
   "metadata": {},
   "outputs": [
    {
     "data": {
      "text/plain": [
       "X11     0.000238\n",
       "X93     0.000475\n",
       "X107    0.000950\n",
       "X233    0.000238\n",
       "X235    0.000238\n",
       "X268    0.000238\n",
       "X289    0.000475\n",
       "X290    0.000238\n",
       "X293    0.000238\n",
       "X297    0.000238\n",
       "X330    0.000238\n",
       "X347    0.000475\n",
       "dtype: float64"
      ]
     },
     "execution_count": 17,
     "metadata": {},
     "output_type": "execute_result"
    }
   ],
   "source": [
    "df_test[zero_variance_cols].var()"
   ]
  },
  {
   "cell_type": "markdown",
   "id": "5a3900a4-7d6c-4bce-9247-a4453a160872",
   "metadata": {},
   "source": [
    "#### For df_test the variances are not zero but we have to drop the same columns in df_test also "
   ]
  },
  {
   "cell_type": "code",
   "execution_count": 20,
   "id": "5732b469-87cc-43e6-b498-3467f290237d",
   "metadata": {},
   "outputs": [],
   "source": [
    "df_test.drop(columns=zero_variance_cols,inplace=True)"
   ]
  },
  {
   "cell_type": "markdown",
   "id": "066b2ceb-b4da-4dec-a8e9-73a73cc5a666",
   "metadata": {},
   "source": [
    "Check for null values "
   ]
  },
  {
   "cell_type": "code",
   "execution_count": 25,
   "id": "b3dd4bfd-cbaf-4891-9dbc-54545aa04893",
   "metadata": {},
   "outputs": [
    {
     "data": {
      "text/plain": [
       "ID      0\n",
       "y       0\n",
       "X0      0\n",
       "X1      0\n",
       "X2      0\n",
       "       ..\n",
       "X380    0\n",
       "X382    0\n",
       "X383    0\n",
       "X384    0\n",
       "X385    0\n",
       "Length: 366, dtype: int64"
      ]
     },
     "execution_count": 25,
     "metadata": {},
     "output_type": "execute_result"
    }
   ],
   "source": [
    "df_train.isna().sum()"
   ]
  },
  {
   "cell_type": "code",
   "execution_count": 22,
   "id": "23cbc44d-6c39-4072-8101-48e5dcb656f1",
   "metadata": {},
   "outputs": [
    {
     "data": {
      "text/plain": [
       "X0_a     0\n",
       "X0_aa    0\n",
       "X0_ab    0\n",
       "X0_ac    0\n",
       "X0_ad    0\n",
       "        ..\n",
       "X380     0\n",
       "X382     0\n",
       "X383     0\n",
       "X384     0\n",
       "X385     0\n",
       "Length: 565, dtype: int64"
      ]
     },
     "execution_count": 22,
     "metadata": {},
     "output_type": "execute_result"
    }
   ],
   "source": [
    "df_cat_train= df_train.select_dtypes('O')\n",
    "df_cat_train_dummies = pd.get_dummies(df_cat_train)\n",
    "df_num_train =df_train.select_dtypes(['int','float'])\n",
    "df_train_final = pd.concat([df_cat_train_dummies,df_num_train], axis=1)\n",
    "df_train_final.isna().sum()"
   ]
  },
  {
   "cell_type": "code",
   "execution_count": 23,
   "id": "9e8a68c4-3abb-45e5-92e4-6593758d78ca",
   "metadata": {},
   "outputs": [
    {
     "data": {
      "text/html": [
       "<div>\n",
       "<style scoped>\n",
       "    .dataframe tbody tr th:only-of-type {\n",
       "        vertical-align: middle;\n",
       "    }\n",
       "\n",
       "    .dataframe tbody tr th {\n",
       "        vertical-align: top;\n",
       "    }\n",
       "\n",
       "    .dataframe thead th {\n",
       "        text-align: right;\n",
       "    }\n",
       "</style>\n",
       "<table border=\"1\" class=\"dataframe\">\n",
       "  <thead>\n",
       "    <tr style=\"text-align: right;\">\n",
       "      <th></th>\n",
       "      <th>X0_a</th>\n",
       "      <th>X0_aa</th>\n",
       "      <th>X0_ab</th>\n",
       "      <th>X0_ac</th>\n",
       "      <th>X0_ad</th>\n",
       "      <th>X0_af</th>\n",
       "      <th>X0_ai</th>\n",
       "      <th>X0_aj</th>\n",
       "      <th>X0_ak</th>\n",
       "      <th>X0_al</th>\n",
       "      <th>...</th>\n",
       "      <th>X375</th>\n",
       "      <th>X376</th>\n",
       "      <th>X377</th>\n",
       "      <th>X378</th>\n",
       "      <th>X379</th>\n",
       "      <th>X380</th>\n",
       "      <th>X382</th>\n",
       "      <th>X383</th>\n",
       "      <th>X384</th>\n",
       "      <th>X385</th>\n",
       "    </tr>\n",
       "  </thead>\n",
       "  <tbody>\n",
       "    <tr>\n",
       "      <th>0</th>\n",
       "      <td>0</td>\n",
       "      <td>0</td>\n",
       "      <td>0</td>\n",
       "      <td>0</td>\n",
       "      <td>0</td>\n",
       "      <td>0</td>\n",
       "      <td>0</td>\n",
       "      <td>0</td>\n",
       "      <td>0</td>\n",
       "      <td>0</td>\n",
       "      <td>...</td>\n",
       "      <td>0</td>\n",
       "      <td>0</td>\n",
       "      <td>1</td>\n",
       "      <td>0</td>\n",
       "      <td>0</td>\n",
       "      <td>0</td>\n",
       "      <td>0</td>\n",
       "      <td>0</td>\n",
       "      <td>0</td>\n",
       "      <td>0</td>\n",
       "    </tr>\n",
       "    <tr>\n",
       "      <th>1</th>\n",
       "      <td>0</td>\n",
       "      <td>0</td>\n",
       "      <td>0</td>\n",
       "      <td>0</td>\n",
       "      <td>0</td>\n",
       "      <td>0</td>\n",
       "      <td>0</td>\n",
       "      <td>0</td>\n",
       "      <td>0</td>\n",
       "      <td>0</td>\n",
       "      <td>...</td>\n",
       "      <td>1</td>\n",
       "      <td>0</td>\n",
       "      <td>0</td>\n",
       "      <td>0</td>\n",
       "      <td>0</td>\n",
       "      <td>0</td>\n",
       "      <td>0</td>\n",
       "      <td>0</td>\n",
       "      <td>0</td>\n",
       "      <td>0</td>\n",
       "    </tr>\n",
       "    <tr>\n",
       "      <th>2</th>\n",
       "      <td>0</td>\n",
       "      <td>0</td>\n",
       "      <td>0</td>\n",
       "      <td>0</td>\n",
       "      <td>0</td>\n",
       "      <td>0</td>\n",
       "      <td>0</td>\n",
       "      <td>0</td>\n",
       "      <td>0</td>\n",
       "      <td>0</td>\n",
       "      <td>...</td>\n",
       "      <td>0</td>\n",
       "      <td>0</td>\n",
       "      <td>0</td>\n",
       "      <td>0</td>\n",
       "      <td>0</td>\n",
       "      <td>0</td>\n",
       "      <td>1</td>\n",
       "      <td>0</td>\n",
       "      <td>0</td>\n",
       "      <td>0</td>\n",
       "    </tr>\n",
       "    <tr>\n",
       "      <th>3</th>\n",
       "      <td>0</td>\n",
       "      <td>0</td>\n",
       "      <td>0</td>\n",
       "      <td>0</td>\n",
       "      <td>0</td>\n",
       "      <td>0</td>\n",
       "      <td>0</td>\n",
       "      <td>0</td>\n",
       "      <td>0</td>\n",
       "      <td>0</td>\n",
       "      <td>...</td>\n",
       "      <td>0</td>\n",
       "      <td>0</td>\n",
       "      <td>0</td>\n",
       "      <td>0</td>\n",
       "      <td>0</td>\n",
       "      <td>0</td>\n",
       "      <td>0</td>\n",
       "      <td>0</td>\n",
       "      <td>0</td>\n",
       "      <td>0</td>\n",
       "    </tr>\n",
       "    <tr>\n",
       "      <th>4</th>\n",
       "      <td>0</td>\n",
       "      <td>0</td>\n",
       "      <td>0</td>\n",
       "      <td>0</td>\n",
       "      <td>0</td>\n",
       "      <td>0</td>\n",
       "      <td>0</td>\n",
       "      <td>0</td>\n",
       "      <td>0</td>\n",
       "      <td>0</td>\n",
       "      <td>...</td>\n",
       "      <td>0</td>\n",
       "      <td>0</td>\n",
       "      <td>0</td>\n",
       "      <td>0</td>\n",
       "      <td>0</td>\n",
       "      <td>0</td>\n",
       "      <td>0</td>\n",
       "      <td>0</td>\n",
       "      <td>0</td>\n",
       "      <td>0</td>\n",
       "    </tr>\n",
       "  </tbody>\n",
       "</table>\n",
       "<p>5 rows × 565 columns</p>\n",
       "</div>"
      ],
      "text/plain": [
       "   X0_a  X0_aa  X0_ab  X0_ac  X0_ad  X0_af  X0_ai  X0_aj  X0_ak  X0_al  ...  \\\n",
       "0     0      0      0      0      0      0      0      0      0      0  ...   \n",
       "1     0      0      0      0      0      0      0      0      0      0  ...   \n",
       "2     0      0      0      0      0      0      0      0      0      0  ...   \n",
       "3     0      0      0      0      0      0      0      0      0      0  ...   \n",
       "4     0      0      0      0      0      0      0      0      0      0  ...   \n",
       "\n",
       "   X375  X376  X377  X378  X379  X380  X382  X383  X384  X385  \n",
       "0     0     0     1     0     0     0     0     0     0     0  \n",
       "1     1     0     0     0     0     0     0     0     0     0  \n",
       "2     0     0     0     0     0     0     1     0     0     0  \n",
       "3     0     0     0     0     0     0     0     0     0     0  \n",
       "4     0     0     0     0     0     0     0     0     0     0  \n",
       "\n",
       "[5 rows x 565 columns]"
      ]
     },
     "execution_count": 23,
     "metadata": {},
     "output_type": "execute_result"
    }
   ],
   "source": [
    "df_train_final.head()"
   ]
  },
  {
   "cell_type": "code",
   "execution_count": 24,
   "id": "31b5443d-34eb-4e7e-a916-a3daa3512b97",
   "metadata": {},
   "outputs": [
    {
     "data": {
      "text/plain": [
       "X0_a     0\n",
       "X0_ad    0\n",
       "X0_ae    0\n",
       "X0_af    0\n",
       "X0_ag    0\n",
       "        ..\n",
       "X380     0\n",
       "X382     0\n",
       "X383     0\n",
       "X384     0\n",
       "X385     0\n",
       "Length: 558, dtype: int64"
      ]
     },
     "execution_count": 24,
     "metadata": {},
     "output_type": "execute_result"
    }
   ],
   "source": [
    "df_cat_test= df_test.select_dtypes('O')\n",
    "df_cat_test_dummies = pd.get_dummies(df_cat_test)\n",
    "df_num_test =df_test.select_dtypes(['int','float'])\n",
    "df_test_final = pd.concat([df_cat_test_dummies,df_num_test], axis=1)\n",
    "df_test_final.isna().sum()"
   ]
  },
  {
   "cell_type": "code",
   "execution_count": 26,
   "id": "9e74c836-059c-4f7a-a7fb-fa1a9767d24a",
   "metadata": {},
   "outputs": [
    {
     "data": {
      "text/html": [
       "<div>\n",
       "<style scoped>\n",
       "    .dataframe tbody tr th:only-of-type {\n",
       "        vertical-align: middle;\n",
       "    }\n",
       "\n",
       "    .dataframe tbody tr th {\n",
       "        vertical-align: top;\n",
       "    }\n",
       "\n",
       "    .dataframe thead th {\n",
       "        text-align: right;\n",
       "    }\n",
       "</style>\n",
       "<table border=\"1\" class=\"dataframe\">\n",
       "  <thead>\n",
       "    <tr style=\"text-align: right;\">\n",
       "      <th></th>\n",
       "      <th>X0_a</th>\n",
       "      <th>X0_aa</th>\n",
       "      <th>X0_ab</th>\n",
       "      <th>X0_ac</th>\n",
       "      <th>X0_ad</th>\n",
       "      <th>X0_af</th>\n",
       "      <th>X0_ai</th>\n",
       "      <th>X0_aj</th>\n",
       "      <th>X0_ak</th>\n",
       "      <th>X0_al</th>\n",
       "      <th>...</th>\n",
       "      <th>X375</th>\n",
       "      <th>X376</th>\n",
       "      <th>X377</th>\n",
       "      <th>X378</th>\n",
       "      <th>X379</th>\n",
       "      <th>X380</th>\n",
       "      <th>X382</th>\n",
       "      <th>X383</th>\n",
       "      <th>X384</th>\n",
       "      <th>X385</th>\n",
       "    </tr>\n",
       "  </thead>\n",
       "  <tbody>\n",
       "    <tr>\n",
       "      <th>count</th>\n",
       "      <td>4209.000000</td>\n",
       "      <td>4209.000000</td>\n",
       "      <td>4209.000000</td>\n",
       "      <td>4209.000000</td>\n",
       "      <td>4209.000000</td>\n",
       "      <td>4209.000000</td>\n",
       "      <td>4209.000000</td>\n",
       "      <td>4209.000000</td>\n",
       "      <td>4209.000000</td>\n",
       "      <td>4209.000000</td>\n",
       "      <td>...</td>\n",
       "      <td>4209.000000</td>\n",
       "      <td>4209.000000</td>\n",
       "      <td>4209.000000</td>\n",
       "      <td>4209.000000</td>\n",
       "      <td>4209.000000</td>\n",
       "      <td>4209.000000</td>\n",
       "      <td>4209.000000</td>\n",
       "      <td>4209.000000</td>\n",
       "      <td>4209.000000</td>\n",
       "      <td>4209.000000</td>\n",
       "    </tr>\n",
       "    <tr>\n",
       "      <th>mean</th>\n",
       "      <td>0.004989</td>\n",
       "      <td>0.000475</td>\n",
       "      <td>0.000238</td>\n",
       "      <td>0.000238</td>\n",
       "      <td>0.003326</td>\n",
       "      <td>0.008316</td>\n",
       "      <td>0.008078</td>\n",
       "      <td>0.035876</td>\n",
       "      <td>0.082918</td>\n",
       "      <td>0.015918</td>\n",
       "      <td>...</td>\n",
       "      <td>0.318841</td>\n",
       "      <td>0.057258</td>\n",
       "      <td>0.314802</td>\n",
       "      <td>0.020670</td>\n",
       "      <td>0.009503</td>\n",
       "      <td>0.008078</td>\n",
       "      <td>0.007603</td>\n",
       "      <td>0.001663</td>\n",
       "      <td>0.000475</td>\n",
       "      <td>0.001426</td>\n",
       "    </tr>\n",
       "    <tr>\n",
       "      <th>std</th>\n",
       "      <td>0.070467</td>\n",
       "      <td>0.021796</td>\n",
       "      <td>0.015414</td>\n",
       "      <td>0.015414</td>\n",
       "      <td>0.057584</td>\n",
       "      <td>0.090820</td>\n",
       "      <td>0.089524</td>\n",
       "      <td>0.186002</td>\n",
       "      <td>0.275790</td>\n",
       "      <td>0.125174</td>\n",
       "      <td>...</td>\n",
       "      <td>0.466082</td>\n",
       "      <td>0.232363</td>\n",
       "      <td>0.464492</td>\n",
       "      <td>0.142294</td>\n",
       "      <td>0.097033</td>\n",
       "      <td>0.089524</td>\n",
       "      <td>0.086872</td>\n",
       "      <td>0.040752</td>\n",
       "      <td>0.021796</td>\n",
       "      <td>0.037734</td>\n",
       "    </tr>\n",
       "    <tr>\n",
       "      <th>min</th>\n",
       "      <td>0.000000</td>\n",
       "      <td>0.000000</td>\n",
       "      <td>0.000000</td>\n",
       "      <td>0.000000</td>\n",
       "      <td>0.000000</td>\n",
       "      <td>0.000000</td>\n",
       "      <td>0.000000</td>\n",
       "      <td>0.000000</td>\n",
       "      <td>0.000000</td>\n",
       "      <td>0.000000</td>\n",
       "      <td>...</td>\n",
       "      <td>0.000000</td>\n",
       "      <td>0.000000</td>\n",
       "      <td>0.000000</td>\n",
       "      <td>0.000000</td>\n",
       "      <td>0.000000</td>\n",
       "      <td>0.000000</td>\n",
       "      <td>0.000000</td>\n",
       "      <td>0.000000</td>\n",
       "      <td>0.000000</td>\n",
       "      <td>0.000000</td>\n",
       "    </tr>\n",
       "    <tr>\n",
       "      <th>25%</th>\n",
       "      <td>0.000000</td>\n",
       "      <td>0.000000</td>\n",
       "      <td>0.000000</td>\n",
       "      <td>0.000000</td>\n",
       "      <td>0.000000</td>\n",
       "      <td>0.000000</td>\n",
       "      <td>0.000000</td>\n",
       "      <td>0.000000</td>\n",
       "      <td>0.000000</td>\n",
       "      <td>0.000000</td>\n",
       "      <td>...</td>\n",
       "      <td>0.000000</td>\n",
       "      <td>0.000000</td>\n",
       "      <td>0.000000</td>\n",
       "      <td>0.000000</td>\n",
       "      <td>0.000000</td>\n",
       "      <td>0.000000</td>\n",
       "      <td>0.000000</td>\n",
       "      <td>0.000000</td>\n",
       "      <td>0.000000</td>\n",
       "      <td>0.000000</td>\n",
       "    </tr>\n",
       "    <tr>\n",
       "      <th>50%</th>\n",
       "      <td>0.000000</td>\n",
       "      <td>0.000000</td>\n",
       "      <td>0.000000</td>\n",
       "      <td>0.000000</td>\n",
       "      <td>0.000000</td>\n",
       "      <td>0.000000</td>\n",
       "      <td>0.000000</td>\n",
       "      <td>0.000000</td>\n",
       "      <td>0.000000</td>\n",
       "      <td>0.000000</td>\n",
       "      <td>...</td>\n",
       "      <td>0.000000</td>\n",
       "      <td>0.000000</td>\n",
       "      <td>0.000000</td>\n",
       "      <td>0.000000</td>\n",
       "      <td>0.000000</td>\n",
       "      <td>0.000000</td>\n",
       "      <td>0.000000</td>\n",
       "      <td>0.000000</td>\n",
       "      <td>0.000000</td>\n",
       "      <td>0.000000</td>\n",
       "    </tr>\n",
       "    <tr>\n",
       "      <th>75%</th>\n",
       "      <td>0.000000</td>\n",
       "      <td>0.000000</td>\n",
       "      <td>0.000000</td>\n",
       "      <td>0.000000</td>\n",
       "      <td>0.000000</td>\n",
       "      <td>0.000000</td>\n",
       "      <td>0.000000</td>\n",
       "      <td>0.000000</td>\n",
       "      <td>0.000000</td>\n",
       "      <td>0.000000</td>\n",
       "      <td>...</td>\n",
       "      <td>1.000000</td>\n",
       "      <td>0.000000</td>\n",
       "      <td>1.000000</td>\n",
       "      <td>0.000000</td>\n",
       "      <td>0.000000</td>\n",
       "      <td>0.000000</td>\n",
       "      <td>0.000000</td>\n",
       "      <td>0.000000</td>\n",
       "      <td>0.000000</td>\n",
       "      <td>0.000000</td>\n",
       "    </tr>\n",
       "    <tr>\n",
       "      <th>max</th>\n",
       "      <td>1.000000</td>\n",
       "      <td>1.000000</td>\n",
       "      <td>1.000000</td>\n",
       "      <td>1.000000</td>\n",
       "      <td>1.000000</td>\n",
       "      <td>1.000000</td>\n",
       "      <td>1.000000</td>\n",
       "      <td>1.000000</td>\n",
       "      <td>1.000000</td>\n",
       "      <td>1.000000</td>\n",
       "      <td>...</td>\n",
       "      <td>1.000000</td>\n",
       "      <td>1.000000</td>\n",
       "      <td>1.000000</td>\n",
       "      <td>1.000000</td>\n",
       "      <td>1.000000</td>\n",
       "      <td>1.000000</td>\n",
       "      <td>1.000000</td>\n",
       "      <td>1.000000</td>\n",
       "      <td>1.000000</td>\n",
       "      <td>1.000000</td>\n",
       "    </tr>\n",
       "  </tbody>\n",
       "</table>\n",
       "<p>8 rows × 565 columns</p>\n",
       "</div>"
      ],
      "text/plain": [
       "              X0_a        X0_aa        X0_ab        X0_ac        X0_ad  \\\n",
       "count  4209.000000  4209.000000  4209.000000  4209.000000  4209.000000   \n",
       "mean      0.004989     0.000475     0.000238     0.000238     0.003326   \n",
       "std       0.070467     0.021796     0.015414     0.015414     0.057584   \n",
       "min       0.000000     0.000000     0.000000     0.000000     0.000000   \n",
       "25%       0.000000     0.000000     0.000000     0.000000     0.000000   \n",
       "50%       0.000000     0.000000     0.000000     0.000000     0.000000   \n",
       "75%       0.000000     0.000000     0.000000     0.000000     0.000000   \n",
       "max       1.000000     1.000000     1.000000     1.000000     1.000000   \n",
       "\n",
       "             X0_af        X0_ai        X0_aj        X0_ak        X0_al  ...  \\\n",
       "count  4209.000000  4209.000000  4209.000000  4209.000000  4209.000000  ...   \n",
       "mean      0.008316     0.008078     0.035876     0.082918     0.015918  ...   \n",
       "std       0.090820     0.089524     0.186002     0.275790     0.125174  ...   \n",
       "min       0.000000     0.000000     0.000000     0.000000     0.000000  ...   \n",
       "25%       0.000000     0.000000     0.000000     0.000000     0.000000  ...   \n",
       "50%       0.000000     0.000000     0.000000     0.000000     0.000000  ...   \n",
       "75%       0.000000     0.000000     0.000000     0.000000     0.000000  ...   \n",
       "max       1.000000     1.000000     1.000000     1.000000     1.000000  ...   \n",
       "\n",
       "              X375         X376         X377         X378         X379  \\\n",
       "count  4209.000000  4209.000000  4209.000000  4209.000000  4209.000000   \n",
       "mean      0.318841     0.057258     0.314802     0.020670     0.009503   \n",
       "std       0.466082     0.232363     0.464492     0.142294     0.097033   \n",
       "min       0.000000     0.000000     0.000000     0.000000     0.000000   \n",
       "25%       0.000000     0.000000     0.000000     0.000000     0.000000   \n",
       "50%       0.000000     0.000000     0.000000     0.000000     0.000000   \n",
       "75%       1.000000     0.000000     1.000000     0.000000     0.000000   \n",
       "max       1.000000     1.000000     1.000000     1.000000     1.000000   \n",
       "\n",
       "              X380         X382         X383         X384         X385  \n",
       "count  4209.000000  4209.000000  4209.000000  4209.000000  4209.000000  \n",
       "mean      0.008078     0.007603     0.001663     0.000475     0.001426  \n",
       "std       0.089524     0.086872     0.040752     0.021796     0.037734  \n",
       "min       0.000000     0.000000     0.000000     0.000000     0.000000  \n",
       "25%       0.000000     0.000000     0.000000     0.000000     0.000000  \n",
       "50%       0.000000     0.000000     0.000000     0.000000     0.000000  \n",
       "75%       0.000000     0.000000     0.000000     0.000000     0.000000  \n",
       "max       1.000000     1.000000     1.000000     1.000000     1.000000  \n",
       "\n",
       "[8 rows x 565 columns]"
      ]
     },
     "execution_count": 26,
     "metadata": {},
     "output_type": "execute_result"
    }
   ],
   "source": [
    "df_train_final.describe()"
   ]
  },
  {
   "cell_type": "code",
   "execution_count": 27,
   "id": "b805a5c5-0468-4fa5-87de-4c8514eaac6d",
   "metadata": {},
   "outputs": [
    {
     "data": {
      "text/html": [
       "<div>\n",
       "<style scoped>\n",
       "    .dataframe tbody tr th:only-of-type {\n",
       "        vertical-align: middle;\n",
       "    }\n",
       "\n",
       "    .dataframe tbody tr th {\n",
       "        vertical-align: top;\n",
       "    }\n",
       "\n",
       "    .dataframe thead th {\n",
       "        text-align: right;\n",
       "    }\n",
       "</style>\n",
       "<table border=\"1\" class=\"dataframe\">\n",
       "  <thead>\n",
       "    <tr style=\"text-align: right;\">\n",
       "      <th></th>\n",
       "      <th>X0_a</th>\n",
       "      <th>X0_aa</th>\n",
       "      <th>X0_ab</th>\n",
       "      <th>X0_ac</th>\n",
       "      <th>X0_ad</th>\n",
       "      <th>X0_af</th>\n",
       "      <th>X0_ai</th>\n",
       "      <th>X0_aj</th>\n",
       "      <th>X0_ak</th>\n",
       "      <th>X0_al</th>\n",
       "      <th>...</th>\n",
       "      <th>X375</th>\n",
       "      <th>X376</th>\n",
       "      <th>X377</th>\n",
       "      <th>X378</th>\n",
       "      <th>X379</th>\n",
       "      <th>X380</th>\n",
       "      <th>X382</th>\n",
       "      <th>X383</th>\n",
       "      <th>X384</th>\n",
       "      <th>X385</th>\n",
       "    </tr>\n",
       "  </thead>\n",
       "  <tbody>\n",
       "    <tr>\n",
       "      <th>0</th>\n",
       "      <td>0</td>\n",
       "      <td>0</td>\n",
       "      <td>0</td>\n",
       "      <td>0</td>\n",
       "      <td>0</td>\n",
       "      <td>0</td>\n",
       "      <td>0</td>\n",
       "      <td>0</td>\n",
       "      <td>0</td>\n",
       "      <td>0</td>\n",
       "      <td>...</td>\n",
       "      <td>0</td>\n",
       "      <td>0</td>\n",
       "      <td>1</td>\n",
       "      <td>0</td>\n",
       "      <td>0</td>\n",
       "      <td>0</td>\n",
       "      <td>0</td>\n",
       "      <td>0</td>\n",
       "      <td>0</td>\n",
       "      <td>0</td>\n",
       "    </tr>\n",
       "    <tr>\n",
       "      <th>1</th>\n",
       "      <td>0</td>\n",
       "      <td>0</td>\n",
       "      <td>0</td>\n",
       "      <td>0</td>\n",
       "      <td>0</td>\n",
       "      <td>0</td>\n",
       "      <td>0</td>\n",
       "      <td>0</td>\n",
       "      <td>0</td>\n",
       "      <td>0</td>\n",
       "      <td>...</td>\n",
       "      <td>1</td>\n",
       "      <td>0</td>\n",
       "      <td>0</td>\n",
       "      <td>0</td>\n",
       "      <td>0</td>\n",
       "      <td>0</td>\n",
       "      <td>0</td>\n",
       "      <td>0</td>\n",
       "      <td>0</td>\n",
       "      <td>0</td>\n",
       "    </tr>\n",
       "    <tr>\n",
       "      <th>2</th>\n",
       "      <td>0</td>\n",
       "      <td>0</td>\n",
       "      <td>0</td>\n",
       "      <td>0</td>\n",
       "      <td>0</td>\n",
       "      <td>0</td>\n",
       "      <td>0</td>\n",
       "      <td>0</td>\n",
       "      <td>0</td>\n",
       "      <td>0</td>\n",
       "      <td>...</td>\n",
       "      <td>0</td>\n",
       "      <td>0</td>\n",
       "      <td>0</td>\n",
       "      <td>0</td>\n",
       "      <td>0</td>\n",
       "      <td>0</td>\n",
       "      <td>1</td>\n",
       "      <td>0</td>\n",
       "      <td>0</td>\n",
       "      <td>0</td>\n",
       "    </tr>\n",
       "    <tr>\n",
       "      <th>3</th>\n",
       "      <td>0</td>\n",
       "      <td>0</td>\n",
       "      <td>0</td>\n",
       "      <td>0</td>\n",
       "      <td>0</td>\n",
       "      <td>0</td>\n",
       "      <td>0</td>\n",
       "      <td>0</td>\n",
       "      <td>0</td>\n",
       "      <td>0</td>\n",
       "      <td>...</td>\n",
       "      <td>0</td>\n",
       "      <td>0</td>\n",
       "      <td>0</td>\n",
       "      <td>0</td>\n",
       "      <td>0</td>\n",
       "      <td>0</td>\n",
       "      <td>0</td>\n",
       "      <td>0</td>\n",
       "      <td>0</td>\n",
       "      <td>0</td>\n",
       "    </tr>\n",
       "    <tr>\n",
       "      <th>4</th>\n",
       "      <td>0</td>\n",
       "      <td>0</td>\n",
       "      <td>0</td>\n",
       "      <td>0</td>\n",
       "      <td>0</td>\n",
       "      <td>0</td>\n",
       "      <td>0</td>\n",
       "      <td>0</td>\n",
       "      <td>0</td>\n",
       "      <td>0</td>\n",
       "      <td>...</td>\n",
       "      <td>0</td>\n",
       "      <td>0</td>\n",
       "      <td>0</td>\n",
       "      <td>0</td>\n",
       "      <td>0</td>\n",
       "      <td>0</td>\n",
       "      <td>0</td>\n",
       "      <td>0</td>\n",
       "      <td>0</td>\n",
       "      <td>0</td>\n",
       "    </tr>\n",
       "  </tbody>\n",
       "</table>\n",
       "<p>5 rows × 565 columns</p>\n",
       "</div>"
      ],
      "text/plain": [
       "   X0_a  X0_aa  X0_ab  X0_ac  X0_ad  X0_af  X0_ai  X0_aj  X0_ak  X0_al  ...  \\\n",
       "0     0      0      0      0      0      0      0      0      0      0  ...   \n",
       "1     0      0      0      0      0      0      0      0      0      0  ...   \n",
       "2     0      0      0      0      0      0      0      0      0      0  ...   \n",
       "3     0      0      0      0      0      0      0      0      0      0  ...   \n",
       "4     0      0      0      0      0      0      0      0      0      0  ...   \n",
       "\n",
       "   X375  X376  X377  X378  X379  X380  X382  X383  X384  X385  \n",
       "0     0     0     1     0     0     0     0     0     0     0  \n",
       "1     1     0     0     0     0     0     0     0     0     0  \n",
       "2     0     0     0     0     0     0     1     0     0     0  \n",
       "3     0     0     0     0     0     0     0     0     0     0  \n",
       "4     0     0     0     0     0     0     0     0     0     0  \n",
       "\n",
       "[5 rows x 565 columns]"
      ]
     },
     "execution_count": 27,
     "metadata": {},
     "output_type": "execute_result"
    }
   ],
   "source": [
    "df_train_final.head()"
   ]
  },
  {
   "cell_type": "markdown",
   "id": "a9c1096c-2580-4136-9830-4658236fabca",
   "metadata": {},
   "source": [
    "As The data look standardised no need for standardisation "
   ]
  },
  {
   "cell_type": "markdown",
   "id": "a7611d85-4bb2-47f7-982c-ae8ae6fef8db",
   "metadata": {},
   "source": [
    "#### Preparing the data for model Building"
   ]
  },
  {
   "cell_type": "code",
   "execution_count": 28,
   "id": "78613b7e-198f-4196-b7e5-6ffea7c5de6b",
   "metadata": {},
   "outputs": [],
   "source": [
    "X=df_train_final.drop(columns=['y','ID'])\n",
    "y=df_train_final.y"
   ]
  },
  {
   "cell_type": "code",
   "execution_count": 29,
   "id": "801ea8e5-255d-4fd2-acd6-d0ba497f05de",
   "metadata": {},
   "outputs": [],
   "source": [
    "from sklearn.model_selection import train_test_split\n",
    "x_train,x_test,y_train,y_test=train_test_split(X,y, random_state=100)"
   ]
  },
  {
   "cell_type": "markdown",
   "id": "c3d84b58-96a9-4cc9-8060-01147813a644",
   "metadata": {},
   "source": [
    "#### As the Model contains lot of features it is very much required to do the Dimensionality Reduction "
   ]
  },
  {
   "cell_type": "code",
   "execution_count": 30,
   "id": "d14f2da7-7cfb-42c0-a8e3-1e79361d19bb",
   "metadata": {},
   "outputs": [],
   "source": [
    "from sklearn.decomposition import PCA\n",
    "pca_model = PCA(n_components=.95)\n",
    "pca_model.fit(x_train)\n",
    "pca_model.fit(x_test)\n",
    "X_pca_train= pca_model.transform(x_train)\n",
    "X_pca_test = pca_model.transform(x_test)"
   ]
  },
  {
   "cell_type": "code",
   "execution_count": null,
   "id": "25fb95f7-b516-4020-950c-cd757daddaa0",
   "metadata": {},
   "outputs": [],
   "source": []
  },
  {
   "cell_type": "code",
   "execution_count": 31,
   "id": "7802a9fe-11df-44e7-a9da-4ae2b9606016",
   "metadata": {},
   "outputs": [
    {
     "data": {
      "text/plain": [
       "array([[ 0.96354924, -0.8386578 , -0.75073752, ...,  0.19923963,\n",
       "         0.16036081,  0.25615965],\n",
       "       [-0.44018992, -2.7589094 , -0.21738357, ..., -0.11892577,\n",
       "         0.00529397, -0.17920985],\n",
       "       [-1.1095658 , -2.58640221, -0.87230401, ..., -0.05402031,\n",
       "         0.07071705,  0.10643146],\n",
       "       ...,\n",
       "       [-0.61221108,  1.83066307, -1.10053283, ..., -0.11366487,\n",
       "         0.37973508,  0.18875616],\n",
       "       [ 0.29527164, -1.44712478, -2.44564843, ...,  0.46624205,\n",
       "        -0.46139263,  0.04379387],\n",
       "       [ 1.18436468, -0.8705941 , -1.04158122, ..., -0.14782503,\n",
       "         0.08364615,  0.6398504 ]])"
      ]
     },
     "execution_count": 31,
     "metadata": {},
     "output_type": "execute_result"
    }
   ],
   "source": [
    "X_pca_train"
   ]
  },
  {
   "cell_type": "code",
   "execution_count": 120,
   "id": "ced17375-b942-46a6-bb2f-699e41e8831b",
   "metadata": {},
   "outputs": [
    {
     "name": "stdout",
     "output_type": "stream",
     "text": [
      "(3156, 125)\n",
      "(3156,)\n"
     ]
    }
   ],
   "source": [
    "print(X_pca_train.shape)\n",
    "print(y_train.shape)"
   ]
  },
  {
   "cell_type": "code",
   "execution_count": 32,
   "id": "2c79bb78-c44e-4bd9-95fa-a9ca2ac1440f",
   "metadata": {},
   "outputs": [
    {
     "name": "stdout",
     "output_type": "stream",
     "text": [
      "(1053, 125)\n",
      "(1053,)\n"
     ]
    }
   ],
   "source": [
    "print(X_pca_test.shape)\n",
    "print(y_test.shape)"
   ]
  },
  {
   "cell_type": "code",
   "execution_count": 48,
   "id": "e592f3de-956c-48ea-931c-3d749394bded",
   "metadata": {},
   "outputs": [
    {
     "name": "stdout",
     "output_type": "stream",
     "text": [
      "Accuracy_train_Linear_Model : 0.6215693520645091\n",
      "Accuracy_test_Linear_Model : 0.4529957373498884\n"
     ]
    }
   ],
   "source": [
    "from sklearn.linear_model import LinearRegression\n",
    "model_1 = LinearRegression()\n",
    "model_1.fit(X_pca_train,y_train)\n",
    "\n",
    "print('Accuracy_train_Linear_Model :' ,model_1.score(X_pca_train,y_train))\n",
    "\n",
    "print('Accuracy_test_Linear_Model :' ,model_1.score(X_pca_test,y_test))"
   ]
  },
  {
   "cell_type": "code",
   "execution_count": 51,
   "id": "891f5e21-c320-453c-bba2-1cb4f5f1e0ec",
   "metadata": {},
   "outputs": [
    {
     "name": "stdout",
     "output_type": "stream",
     "text": [
      "Accuracy_train_Ridge : 0.621566117487214\n",
      "Accuracy_test_Ridge : 0.45305799590545837\n"
     ]
    }
   ],
   "source": [
    "from sklearn.linear_model import Ridge\n",
    "\n",
    "model_3 = Ridge()\n",
    "model_3.fit(X_pca_train,y_train)\n",
    "\n",
    "print('Accuracy_train_Ridge :' ,model_3.score(X_pca_train,y_train))\n",
    "\n",
    "print('Accuracy_test_Ridge :' ,model_3.score(X_pca_test,y_test))"
   ]
  },
  {
   "cell_type": "code",
   "execution_count": 49,
   "id": "d8e9b0ce-2e9a-4f27-8172-cf1ea3ce5620",
   "metadata": {},
   "outputs": [
    {
     "name": "stdout",
     "output_type": "stream",
     "text": [
      "Accuracy_train_Lasso : 0.4532478088965546\n",
      "Accuracy_test_Lasso : 0.3354643790669096\n"
     ]
    }
   ],
   "source": [
    "from sklearn.linear_model import Lasso\n",
    "\n",
    "model_2 = Lasso()\n",
    "model_2.fit(X_pca_train,y_train)\n",
    "\n",
    "print('Accuracy_train_Lasso :' ,model_2.score(X_pca_train,y_train))\n",
    "\n",
    "print('Accuracy_test_Lasso :' ,model_2.score(X_pca_test,y_test))"
   ]
  },
  {
   "cell_type": "code",
   "execution_count": 52,
   "id": "2d7b792e-20c1-4197-85cc-4abf5defa7b9",
   "metadata": {},
   "outputs": [
    {
     "name": "stdout",
     "output_type": "stream",
     "text": [
      "Accuracy_train_Elastic_Net : 0.43768848713258424\n",
      "Accuracy_test_Elastic_Net : 0.3258093693155647\n"
     ]
    }
   ],
   "source": [
    "from sklearn.linear_model import ElasticNet\n",
    "\n",
    "model_4 = ElasticNet()\n",
    "model_4.fit(X_pca_train,y_train)\n",
    "\n",
    "print('Accuracy_train_Elastic_Net :' ,model_4.score(X_pca_train,y_train))\n",
    "\n",
    "print('Accuracy_test_Elastic_Net :' ,model_4.score(X_pca_test,y_test))"
   ]
  },
  {
   "cell_type": "markdown",
   "id": "b663540d-60f8-48d3-b729-9c23e12e38a9",
   "metadata": {},
   "source": [
    "# Boosting Using Catboost"
   ]
  },
  {
   "cell_type": "code",
   "execution_count": 53,
   "id": "410eb546-7f00-4e69-860e-4b6be81ac014",
   "metadata": {},
   "outputs": [],
   "source": [
    "from catboost import CatBoostRegressor"
   ]
  },
  {
   "cell_type": "code",
   "execution_count": 54,
   "id": "76664e12-60fe-4346-88f6-fffe3d855d80",
   "metadata": {},
   "outputs": [],
   "source": [
    "model_cb = CatBoostRegressor(iterations=15,learning_rate=.11,l2_leaf_reg=2, depth=6, use_best_model=True)"
   ]
  },
  {
   "cell_type": "code",
   "execution_count": 55,
   "id": "a1bc4960-7502-48cf-b0eb-7fbce6feebde",
   "metadata": {},
   "outputs": [
    {
     "data": {
      "application/vnd.jupyter.widget-view+json": {
       "model_id": "fe40e6480fcf48c6913cde964e3ffe89",
       "version_major": 2,
       "version_minor": 0
      },
      "text/plain": [
       "MetricVisualizer(layout=Layout(align_self='stretch', height='500px'))"
      ]
     },
     "metadata": {},
     "output_type": "display_data"
    },
    {
     "name": "stdout",
     "output_type": "stream",
     "text": [
      "0:\tlearn: 11.7105332\ttest: 13.5896006\tbest: 13.5896006 (0)\ttotal: 177ms\tremaining: 2.48s\n",
      "1:\tlearn: 11.2671092\ttest: 13.2068618\tbest: 13.2068618 (1)\ttotal: 196ms\tremaining: 1.27s\n",
      "2:\tlearn: 10.9006433\ttest: 12.9022059\tbest: 12.9022059 (2)\ttotal: 215ms\tremaining: 858ms\n",
      "3:\tlearn: 10.5617962\ttest: 12.6412743\tbest: 12.6412743 (3)\ttotal: 233ms\tremaining: 641ms\n",
      "4:\tlearn: 10.2899731\ttest: 12.4301535\tbest: 12.4301535 (4)\ttotal: 251ms\tremaining: 502ms\n",
      "5:\tlearn: 10.0121955\ttest: 12.2148411\tbest: 12.2148411 (5)\ttotal: 269ms\tremaining: 403ms\n",
      "6:\tlearn: 9.8355590\ttest: 12.0772122\tbest: 12.0772122 (6)\ttotal: 287ms\tremaining: 328ms\n",
      "7:\tlearn: 9.6511915\ttest: 11.9325837\tbest: 11.9325837 (7)\ttotal: 305ms\tremaining: 267ms\n",
      "8:\tlearn: 9.4752142\ttest: 11.8124503\tbest: 11.8124503 (8)\ttotal: 323ms\tremaining: 215ms\n",
      "9:\tlearn: 9.2777322\ttest: 11.6635030\tbest: 11.6635030 (9)\ttotal: 341ms\tremaining: 171ms\n",
      "10:\tlearn: 9.1647886\ttest: 11.5883348\tbest: 11.5883348 (10)\ttotal: 359ms\tremaining: 131ms\n",
      "11:\tlearn: 9.0268842\ttest: 11.4725587\tbest: 11.4725587 (11)\ttotal: 377ms\tremaining: 94.2ms\n",
      "12:\tlearn: 8.8954871\ttest: 11.3734125\tbest: 11.3734125 (12)\ttotal: 398ms\tremaining: 61.2ms\n",
      "13:\tlearn: 8.8149550\ttest: 11.3166429\tbest: 11.3166429 (13)\ttotal: 417ms\tremaining: 29.8ms\n",
      "14:\tlearn: 8.7306211\ttest: 11.2697750\tbest: 11.2697750 (14)\ttotal: 444ms\tremaining: 0us\n",
      "\n",
      "bestTest = 11.26977497\n",
      "bestIteration = 14\n",
      "\n"
     ]
    },
    {
     "data": {
      "text/plain": [
       "<catboost.core.CatBoostRegressor at 0x1cb8b7c8e50>"
      ]
     },
     "execution_count": 55,
     "metadata": {},
     "output_type": "execute_result"
    }
   ],
   "source": [
    "\n",
    "model_cb.fit(X_pca_train,y_train,plot=True,eval_set=(X_pca_test,y_test))"
   ]
  },
  {
   "cell_type": "code",
   "execution_count": 68,
   "id": "d802871d-b1ba-4831-97d2-183dbfeeb3da",
   "metadata": {},
   "outputs": [],
   "source": [
    "y_pred_test =model_cb.predict(X_pca_test)\n",
    "y_pred_train =model_cb.predict(X_pca_train)"
   ]
  },
  {
   "cell_type": "code",
   "execution_count": 69,
   "id": "feff770c-3f4f-4ced-9f40-ab143c5fa5dc",
   "metadata": {},
   "outputs": [],
   "source": [
    "from sklearn.metrics import mean_absolute_error, mean_squared_error, r2_score"
   ]
  },
  {
   "cell_type": "code",
   "execution_count": 70,
   "id": "5717fc8d-4977-499a-b478-092408373219",
   "metadata": {},
   "outputs": [],
   "source": [
    "mae = mean_absolute_error(y_test, y_pred_test)\n",
    "mse = mean_squared_error(y_test, y_pred_test)\n",
    "r2 = r2_score(y_test, y_pred_test)"
   ]
  },
  {
   "cell_type": "code",
   "execution_count": 71,
   "id": "a51777d9-8934-4c10-b921-d69759c1b0ad",
   "metadata": {},
   "outputs": [
    {
     "name": "stdout",
     "output_type": "stream",
     "text": [
      "Mean Absolute Error (MAE): 7.28\n",
      "Mean Squared Error (MSE): 127.01\n",
      "R-squared (R2): 0.35\n"
     ]
    }
   ],
   "source": [
    "print(f\"Mean Absolute Error (MAE): {mae:.2f}\")\n",
    "print(f\"Mean Squared Error (MSE): {mse:.2f}\")\n",
    "print(f\"R-squared (R2): {r2:.2f}\")"
   ]
  },
  {
   "cell_type": "code",
   "execution_count": 72,
   "id": "12daa46d-c985-4aee-86da-8a6eada6bd1e",
   "metadata": {},
   "outputs": [],
   "source": [
    "r2_train = r2_score(y_train, y_pred_train)\n",
    "r2_test = r2_score(y_test, y_pred_test)"
   ]
  },
  {
   "cell_type": "code",
   "execution_count": 73,
   "id": "5829c6ee-ee1c-45aa-9d8b-1840e87dfcd2",
   "metadata": {},
   "outputs": [
    {
     "name": "stdout",
     "output_type": "stream",
     "text": [
      "R-squared (R2) - Training Data: 0.49\n",
      "R-squared (R2) - Test Data: 0.35\n"
     ]
    }
   ],
   "source": [
    "print(f\"R-squared (R2) - Training Data: {r2_train:.2f}\")\n",
    "print(f\"R-squared (R2) - Test Data: {r2_test:.2f}\")"
   ]
  },
  {
   "cell_type": "markdown",
   "id": "a102bc54-2d57-4e48-844f-8acc5bafb0d2",
   "metadata": {},
   "source": [
    "#### The data seems to be over fitted and the accuracy is pretty Low , even we uses Catboost Algorithm "
   ]
  },
  {
   "cell_type": "markdown",
   "id": "4864b93f-2fd4-4591-885a-7fdf7ceb4a31",
   "metadata": {
    "tags": []
   },
   "source": [
    "## with the test data we are going to predict the y "
   ]
  },
  {
   "cell_type": "markdown",
   "id": "bb52bc15-2590-4945-93d6-ad0ebc684b4e",
   "metadata": {},
   "source": [
    "All the Data maniplutation we have to do in the Test data also "
   ]
  },
  {
   "cell_type": "code",
   "execution_count": 74,
   "id": "2bd6e8e0-d7dd-4855-af8d-e419fb7593eb",
   "metadata": {},
   "outputs": [],
   "source": [
    "y_actual_pred = model_cb.predict(df_test_final)"
   ]
  },
  {
   "cell_type": "code",
   "execution_count": 75,
   "id": "72ddef88-01db-4717-abb0-c16763e5d297",
   "metadata": {},
   "outputs": [
    {
     "data": {
      "text/plain": [
       "0       130.81\n",
       "1        88.53\n",
       "2        76.26\n",
       "3        80.62\n",
       "4        78.02\n",
       "         ...  \n",
       "4204    107.39\n",
       "4205    108.77\n",
       "4206    109.22\n",
       "4207     87.48\n",
       "4208    110.85\n",
       "Name: y, Length: 4209, dtype: float64"
      ]
     },
     "execution_count": 75,
     "metadata": {},
     "output_type": "execute_result"
    }
   ],
   "source": [
    "df_train.y"
   ]
  },
  {
   "cell_type": "code",
   "execution_count": 76,
   "id": "eb4eb453-4be7-41cf-bb9a-f3d17c4ddcab",
   "metadata": {},
   "outputs": [
    {
     "data": {
      "text/html": [
       "<div>\n",
       "<style scoped>\n",
       "    .dataframe tbody tr th:only-of-type {\n",
       "        vertical-align: middle;\n",
       "    }\n",
       "\n",
       "    .dataframe tbody tr th {\n",
       "        vertical-align: top;\n",
       "    }\n",
       "\n",
       "    .dataframe thead th {\n",
       "        text-align: right;\n",
       "    }\n",
       "</style>\n",
       "<table border=\"1\" class=\"dataframe\">\n",
       "  <thead>\n",
       "    <tr style=\"text-align: right;\">\n",
       "      <th></th>\n",
       "      <th>Actual</th>\n",
       "      <th>Predicted</th>\n",
       "    </tr>\n",
       "  </thead>\n",
       "  <tbody>\n",
       "    <tr>\n",
       "      <th>0</th>\n",
       "      <td>130.81</td>\n",
       "      <td>97.453908</td>\n",
       "    </tr>\n",
       "    <tr>\n",
       "      <th>1</th>\n",
       "      <td>88.53</td>\n",
       "      <td>97.453908</td>\n",
       "    </tr>\n",
       "    <tr>\n",
       "      <th>2</th>\n",
       "      <td>76.26</td>\n",
       "      <td>97.453908</td>\n",
       "    </tr>\n",
       "    <tr>\n",
       "      <th>3</th>\n",
       "      <td>80.62</td>\n",
       "      <td>97.453908</td>\n",
       "    </tr>\n",
       "    <tr>\n",
       "      <th>4</th>\n",
       "      <td>78.02</td>\n",
       "      <td>97.335883</td>\n",
       "    </tr>\n",
       "    <tr>\n",
       "      <th>...</th>\n",
       "      <td>...</td>\n",
       "      <td>...</td>\n",
       "    </tr>\n",
       "    <tr>\n",
       "      <th>4204</th>\n",
       "      <td>107.39</td>\n",
       "      <td>99.388521</td>\n",
       "    </tr>\n",
       "    <tr>\n",
       "      <th>4205</th>\n",
       "      <td>108.77</td>\n",
       "      <td>97.453908</td>\n",
       "    </tr>\n",
       "    <tr>\n",
       "      <th>4206</th>\n",
       "      <td>109.22</td>\n",
       "      <td>97.453908</td>\n",
       "    </tr>\n",
       "    <tr>\n",
       "      <th>4207</th>\n",
       "      <td>87.48</td>\n",
       "      <td>97.453908</td>\n",
       "    </tr>\n",
       "    <tr>\n",
       "      <th>4208</th>\n",
       "      <td>110.85</td>\n",
       "      <td>97.335883</td>\n",
       "    </tr>\n",
       "  </tbody>\n",
       "</table>\n",
       "<p>4209 rows × 2 columns</p>\n",
       "</div>"
      ],
      "text/plain": [
       "      Actual  Predicted\n",
       "0     130.81  97.453908\n",
       "1      88.53  97.453908\n",
       "2      76.26  97.453908\n",
       "3      80.62  97.453908\n",
       "4      78.02  97.335883\n",
       "...      ...        ...\n",
       "4204  107.39  99.388521\n",
       "4205  108.77  97.453908\n",
       "4206  109.22  97.453908\n",
       "4207   87.48  97.453908\n",
       "4208  110.85  97.335883\n",
       "\n",
       "[4209 rows x 2 columns]"
      ]
     },
     "execution_count": 76,
     "metadata": {},
     "output_type": "execute_result"
    }
   ],
   "source": [
    "pd.DataFrame([df_train.y,y_actual_pred]).T.rename(columns={'y':'Actual','Unnamed 0':'Predicted'})"
   ]
  },
  {
   "cell_type": "code",
   "execution_count": null,
   "id": "d7e2ded4-2b20-46a5-bec5-edd36bd20403",
   "metadata": {},
   "outputs": [],
   "source": []
  },
  {
   "cell_type": "code",
   "execution_count": null,
   "id": "ec47e1b6-1ab8-461f-be61-288f2ab3d2d2",
   "metadata": {},
   "outputs": [],
   "source": []
  }
 ],
 "metadata": {
  "kernelspec": {
   "display_name": "Python 3 (ipykernel)",
   "language": "python",
   "name": "python3"
  },
  "language_info": {
   "codemirror_mode": {
    "name": "ipython",
    "version": 3
   },
   "file_extension": ".py",
   "mimetype": "text/x-python",
   "name": "python",
   "nbconvert_exporter": "python",
   "pygments_lexer": "ipython3",
   "version": "3.8.16"
  }
 },
 "nbformat": 4,
 "nbformat_minor": 5
}
